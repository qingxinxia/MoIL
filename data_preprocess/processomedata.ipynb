{
 "cells": [
  {
   "cell_type": "code",
   "execution_count": 1,
   "metadata": {
    "collapsed": true,
    "pycharm": {
     "name": "#%%\n"
    }
   },
   "outputs": [],
   "source": [
    "import os\n",
    "import matplotlib.pyplot as plt\n",
    "import pandas as pd\n",
    "import pickle\n",
    "import numpy as np\n",
    "from datetime import datetime\n",
    "from tqdm import tqdm"
   ]
  },
  {
   "cell_type": "code",
   "execution_count": null,
   "outputs": [],
   "source": [],
   "metadata": {
    "collapsed": false,
    "pycharm": {
     "name": "#%%\n"
    }
   }
  },
  {
   "cell_type": "code",
   "execution_count": 6,
   "outputs": [],
   "source": [
    "\n",
    "\"\"\" to load all the data from the specific domain with index domain_idx\n",
    "This function is in a iteration, we need to load each user's data from this func.\n",
    ":param domain_idx: userid, the filename\n",
    ":return: X and y data of the entire domain\n",
    "X.shape(Windowsize, dim), y.shape(windowsize), domain(windowsize)\n",
    "\"\"\"\n",
    "\n",
    "domain_idx = 'ome'\n",
    "\n",
    "root_path, _ = os.path.split(os.path.abspath(os.getcwd()))\n",
    "\n",
    "data_dir = os.path.join(root_path, 'data','omeData', 'raw')\n",
    "saved_filename = os.path.join(root_path, 'data','omeData', 'omewd', domain_idx + '_wd.data') # \"wd\": with domain label\n",
    "\n",
    "datapath = os.path.join(data_dir, '20150715_105700_acc2.csv')\n",
    "\n",
    "# print('reading data ...')\n",
    "data_df = pd.read_csv(datapath)\n",
    "data_df.dropna(axis=0, how='any', inplace=True)\n",
    "d_df = data_df[['timestamp', 'x', 'y', 'z']].copy()\n"
   ],
   "metadata": {
    "collapsed": false,
    "pycharm": {
     "name": "#%%\n"
    }
   }
  },
  {
   "cell_type": "code",
   "execution_count": 9,
   "outputs": [],
   "source": [
    "labelpath = os.path.join(data_dir, 'labels_OME_TestingboardA_shosai.csv')\n",
    "label_df = pd.read_csv(labelpath)"
   ],
   "metadata": {
    "collapsed": false,
    "pycharm": {
     "name": "#%%\n"
    }
   }
  },
  {
   "cell_type": "code",
   "execution_count": 42,
   "outputs": [],
   "source": [
    "# Convert strings to datetime objects\n",
    "format_acc = '%Y%m%d_%H:%M:%S.%f'\n",
    "format_label = '%Y-%m-%dT%H:%M:%S.%f'\n",
    "\n",
    "d_df['timestamp'] = d_df.timestamp.map(lambda x: datetime.strptime(x, format_acc))\n",
    "label_df['start'] = label_df.start.map(lambda x: datetime.strptime(x, format_label))\n",
    "label_df['end'] = label_df.end.map(lambda x: datetime.strptime(x, format_label))"
   ],
   "metadata": {
    "collapsed": false,
    "pycharm": {
     "name": "#%%\n"
    }
   }
  },
  {
   "cell_type": "code",
   "execution_count": 43,
   "outputs": [],
   "source": [
    "d_df['period'] = -1\n",
    "d_df['operation'] = -1"
   ],
   "metadata": {
    "collapsed": false,
    "pycharm": {
     "name": "#%%\n"
    }
   }
  },
  {
   "cell_type": "code",
   "execution_count": 44,
   "outputs": [],
   "source": [
    "# process label csv\n",
    "\n",
    "jobid_list = ['job0-', 'job1-', 'job2-', 'job3-', 'job4-', 'job5-', 'job6-', 'job7-', 'job8-','job9-', 'job10-', 'job11-', 'job12-', 'job13-']\n",
    "opeid_list = ['kibantoritsuke', 'ABB', 'RBOffset', 'ukedai', 'AGC&FlexFilter', 'Blooming', 'Head', 'kibanharaidashi']\n",
    "ope_dict = dict(zip(opeid_list, np.arange(len(opeid_list))))\n",
    "label_df['event_typeID'] = label_df['event_type'].apply(lambda x: next((value for value in jobid_list if value in x), None))\n",
    "label_df['period'] = label_df['event_typeID'].map(lambda x: int(x[3:-1]))\n",
    "label_df['opeID'] = label_df['event_type'].apply(lambda x: next((value for value in opeid_list if value in x), None))\n",
    "label_df['operation'] = label_df['opeID'].map(lambda x: ope_dict[x])\n",
    "label_df2 = label_df[['start', 'end', 'operation', 'period']]\n"
   ],
   "metadata": {
    "collapsed": false,
    "pycharm": {
     "name": "#%%\n"
    }
   }
  },
  {
   "cell_type": "code",
   "execution_count": 62,
   "outputs": [],
   "source": [
    "# label_df2: change end time to next start time\n",
    "\n",
    "end1 = label_df2.start.values[1:]\n",
    "end2 = np.concatenate([end1,[label_df2.end.values[-1]]],axis=0)\n",
    "label_df3 = label_df2.copy()\n",
    "label_df3['end'] = end2"
   ],
   "metadata": {
    "collapsed": false,
    "pycharm": {
     "name": "#%%\n"
    }
   }
  },
  {
   "cell_type": "code",
   "execution_count": 60,
   "outputs": [
    {
     "data": {
      "text/plain": "numpy.datetime64('2015-07-15T11:23:35.259000000')"
     },
     "execution_count": 60,
     "metadata": {},
     "output_type": "execute_result"
    }
   ],
   "source": [],
   "metadata": {
    "collapsed": false,
    "pycharm": {
     "name": "#%%\n"
    }
   }
  },
  {
   "cell_type": "code",
   "execution_count": 38,
   "outputs": [],
   "source": [],
   "metadata": {
    "collapsed": false,
    "pycharm": {
     "name": "#%%\n"
    }
   }
  },
  {
   "cell_type": "code",
   "execution_count": 63,
   "outputs": [
    {
     "name": "stderr",
     "output_type": "stream",
     "text": [
      "100%|██████████| 97239/97239 [05:22<00:00, 301.51it/s]\n"
     ]
    }
   ],
   "source": [
    "datatime_np = d_df.timestamp.values\n",
    "data_period = d_df.period.values\n",
    "data_ope = d_df.operation.values\n",
    "\n",
    "for index_data, t in tqdm(enumerate(datatime_np), total=len(datatime_np)):\n",
    "    # Iterate over each label_df row\n",
    "    for index, row in label_df3.iterrows():\n",
    "        start = row['start']\n",
    "        end = row['end']\n",
    "        operation = row['operation']\n",
    "        period = row['period']\n",
    "\n",
    "        # which label\n",
    "        if (start<=t) and (t<=end):\n",
    "            data_period[index_data] = period\n",
    "            data_ope[index_data] = operation\n",
    "            # print(index_data)\n",
    "            break\n"
   ],
   "metadata": {
    "collapsed": false,
    "pycharm": {
     "name": "#%%\n"
    }
   }
  },
  {
   "cell_type": "code",
   "execution_count": 67,
   "outputs": [],
   "source": [
    "d_df['period'] = data_period\n",
    "d_df['operation'] = data_ope\n",
    "# Remove rows where Value = -1\n",
    "d_df = d_df[d_df['operation'] != -1]"
   ],
   "metadata": {
    "collapsed": false,
    "pycharm": {
     "name": "#%%\n"
    }
   }
  },
  {
   "cell_type": "code",
   "execution_count": 72,
   "outputs": [
    {
     "name": "stderr",
     "output_type": "stream",
     "text": [
      "D:\\Users\\xiqxi\\Anaconda3\\envs\\openpack\\lib\\site-packages\\pandas\\core\\frame.py:3641: SettingWithCopyWarning: \n",
      "A value is trying to be set on a copy of a slice from a DataFrame.\n",
      "Try using .loc[row_indexer,col_indexer] = value instead\n",
      "\n",
      "See the caveats in the documentation: https://pandas.pydata.org/pandas-docs/stable/user_guide/indexing.html#returning-a-view-versus-a-copy\n",
      "  self[k1] = value[k2]\n"
     ]
    }
   ],
   "source": [
    "GRAVITATIONAL_ACCELERATION = 9.80665\n",
    "def convert_unit_system(df):\n",
    "    cols = [\"x\", \"y\", \"z\"]\n",
    "    df[cols] = df[cols] / GRAVITATIONAL_ACCELERATION\n",
    "    return df\n",
    "\n",
    "d_df = convert_unit_system(d_df)\n"
   ],
   "metadata": {
    "collapsed": false,
    "pycharm": {
     "name": "#%%\n"
    }
   }
  },
  {
   "cell_type": "code",
   "execution_count": 73,
   "outputs": [
    {
     "data": {
      "text/plain": "                   timestamp         x         y         z  period  operation\n1012 2015-07-15 10:58:05.111 -0.177205 -0.655608  0.977798       0          0\n1013 2015-07-15 10:58:05.128 -0.202589 -0.651703  1.050047       0          0",
      "text/html": "<div>\n<style scoped>\n    .dataframe tbody tr th:only-of-type {\n        vertical-align: middle;\n    }\n\n    .dataframe tbody tr th {\n        vertical-align: top;\n    }\n\n    .dataframe thead th {\n        text-align: right;\n    }\n</style>\n<table border=\"1\" class=\"dataframe\">\n  <thead>\n    <tr style=\"text-align: right;\">\n      <th></th>\n      <th>timestamp</th>\n      <th>x</th>\n      <th>y</th>\n      <th>z</th>\n      <th>period</th>\n      <th>operation</th>\n    </tr>\n  </thead>\n  <tbody>\n    <tr>\n      <th>1012</th>\n      <td>2015-07-15 10:58:05.111</td>\n      <td>-0.177205</td>\n      <td>-0.655608</td>\n      <td>0.977798</td>\n      <td>0</td>\n      <td>0</td>\n    </tr>\n    <tr>\n      <th>1013</th>\n      <td>2015-07-15 10:58:05.128</td>\n      <td>-0.202589</td>\n      <td>-0.651703</td>\n      <td>1.050047</td>\n      <td>0</td>\n      <td>0</td>\n    </tr>\n  </tbody>\n</table>\n</div>"
     },
     "execution_count": 73,
     "metadata": {},
     "output_type": "execute_result"
    }
   ],
   "source": [
    "d_df.head(2)"
   ],
   "metadata": {
    "collapsed": false,
    "pycharm": {
     "name": "#%%\n"
    }
   }
  },
  {
   "cell_type": "code",
   "execution_count": 76,
   "outputs": [
    {
     "name": "stdout",
     "output_type": "stream",
     "text": [
      "\n",
      "Processing domain ome files...\n",
      "\n",
      "\n",
      "Processing domain ome files | X: (95885, 3) y: (95885,) d:(95885,) \n",
      "\n"
     ]
    }
   ],
   "source": [
    "print('\\nProcessing domain {0} files...\\n'.format(domain_idx))\n",
    "X = d_df.values[:, 1:4]  # remove timestamp column\n",
    "y = d_df.values[:, -1]\n",
    "d = d_df.values[:, -2]\n",
    "period = d_df.values[:, -2]\n",
    "# d = np.full(y.shape, int(domain_dict[domain_idx]), dtype=int)\n",
    "print('\\nProcessing domain {0} files | X: {1} y: {2} d:{3} \\n'.format(domain_idx, X.shape, y.shape, d.shape))\n",
    "\n",
    "obj = [(X, y, d, period)]\n",
    "f = open(saved_filename, 'wb')\n",
    "pickle.dump(obj, f, protocol=pickle.HIGHEST_PROTOCOL)\n",
    "f.close()"
   ],
   "metadata": {
    "collapsed": false,
    "pycharm": {
     "name": "#%%\n"
    }
   }
  },
  {
   "cell_type": "code",
   "execution_count": 81,
   "outputs": [
    {
     "data": {
      "text/plain": "<Figure size 640x480 with 1 Axes>",
      "image/png": "[encoded data removed]"
     },
     "metadata": {},
     "output_type": "display_data"
    }
   ],
   "source": [
    "plt.plot(y)\n",
    "plt.show()"
   ],
   "metadata": {
    "collapsed": false,
    "pycharm": {
     "name": "#%%\n"
    }
   }
  },
  {
   "cell_type": "code",
   "execution_count": null,
   "outputs": [],
   "source": [],
   "metadata": {
    "collapsed": false,
    "pycharm": {
     "name": "#%%\n"
    }
   }
  },
  {
   "cell_type": "code",
   "execution_count": null,
   "outputs": [],
   "source": [],
   "metadata": {
    "collapsed": false,
    "pycharm": {
     "name": "#%%\n"
    }
   }
  },
  {
   "cell_type": "code",
   "execution_count": null,
   "outputs": [],
   "source": [],
   "metadata": {
    "collapsed": false,
    "pycharm": {
     "name": "#%%\n"
    }
   }
  },
  {
   "cell_type": "code",
   "execution_count": null,
   "outputs": [],
   "source": [],
   "metadata": {
    "collapsed": false,
    "pycharm": {
     "name": "#%%\n"
    }
   }
  },
  {
   "cell_type": "code",
   "execution_count": null,
   "outputs": [],
   "source": [],
   "metadata": {
    "collapsed": false,
    "pycharm": {
     "name": "#%%\n"
    }
   }
  },
  {
   "cell_type": "code",
   "execution_count": null,
   "outputs": [],
   "source": [],
   "metadata": {
    "collapsed": false,
    "pycharm": {
     "name": "#%%\n"
    }
   }
  },
  {
   "cell_type": "code",
   "execution_count": null,
   "outputs": [],
   "source": [],
   "metadata": {
    "collapsed": false,
    "pycharm": {
     "name": "#%%\n"
    }
   }
  },
  {
   "cell_type": "code",
   "execution_count": null,
   "outputs": [],
   "source": [],
   "metadata": {
    "collapsed": false,
    "pycharm": {
     "name": "#%%\n"
    }
   }
  }
 ],
 "metadata": {
  "kernelspec": {
   "display_name": "Python 3",
   "language": "python",
   "name": "python3"
  },
  "language_info": {
   "codemirror_mode": {
    "name": "ipython",
    "version": 2
   },
   "file_extension": ".py",
   "mimetype": "text/x-python",
   "name": "python",
   "nbconvert_exporter": "python",
   "pygments_lexer": "ipython2",
   "version": "2.7.6"
  }
 },
 "nbformat": 4,
 "nbformat_minor": 0
}